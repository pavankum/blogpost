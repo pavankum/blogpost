{
 "cells": [
  {
   "cell_type": "code",
   "execution_count": 1,
   "id": "585e82de",
   "metadata": {},
   "outputs": [
    {
     "name": "stderr",
     "output_type": "stream",
     "text": [
      "Warning: Unable to load toolkit 'OpenEye Toolkit'. The Open Force Field Toolkit does not require the OpenEye Toolkits, and can use RDKit/AmberTools instead. However, if you have a valid license for the OpenEye Toolkits, consider installing them for faster performance and additional file format support: https://docs.eyesopen.com/toolkits/python/quickstart-python/linuxosx.html OpenEye offers free Toolkit licenses for academics: https://www.eyesopen.com/academic-licensing\n",
      "Warning: Unable to load toolkit 'AmberTools'. \n"
     ]
    }
   ],
   "source": [
    "from openff.qcsubmit.results import TorsionDriveResultCollection\n",
    "from openff.toolkit.topology import Molecule\n",
    "import logging\n",
    "from rdkit import RDLogger"
   ]
  },
  {
   "cell_type": "code",
   "execution_count": 2,
   "id": "a3fe5e13",
   "metadata": {},
   "outputs": [],
   "source": [
    "logging.getLogger(\"rdkit\").setLevel(logging.ERROR)\n",
    "RDLogger.DisableLog('rdApp.*')"
   ]
  },
  {
   "cell_type": "code",
   "execution_count": 3,
   "id": "edcda9ba",
   "metadata": {},
   "outputs": [
    {
     "name": "stderr",
     "output_type": "stream",
     "text": [
      "Deduplication                 : 100%|█████████| 60/60 [00:00<00:00, 1401.65it/s]\n",
      "ScanEnumerator                : 100%|██████████| 60/60 [00:00<00:00, 474.75it/s]\n",
      "StandardConformerGenerator    : 100%|███████████| 60/60 [00:01<00:00, 55.95it/s]\n",
      "Preparation                   : 100%|███████████| 60/60 [00:01<00:00, 49.82it/s]\n"
     ]
    }
   ],
   "source": [
    "# Using qcsubmit to create a torsiondrive dataset for the central bridging C-C bonds\n",
    "from openff.qcsubmit.common_structures import QCSpec, SCFProperties\n",
    "from openff.qcsubmit.factories import TorsiondriveDatasetFactory\n",
    "from openff.qcsubmit.workflow_components import (\n",
    "    Scan1D, ScanEnumerator, StandardConformerGenerator\n",
    ")\n",
    "import numpy as np\n",
    "from qcelemental.models.results import WavefunctionProtocolEnum\n",
    "from qcportal.models.common_models import DriverEnum\n",
    "\n",
    "# Specifying the theory level for the calculations\n",
    "# Anything computable by QCEngine can be specified and they all can be included at the same time\n",
    "# Here I am adding QM and SEQM methods\n",
    "qc_specifications = {\n",
    "                    \"qm_spec\": \n",
    "                            QCSpec(method='b3lyp-d3bj', \n",
    "                               basis='dzvp', \n",
    "                               program='psi4', \n",
    "                               spec_name='qm_spec', \n",
    "                               spec_description='Project quantum chemistry specification',\n",
    "                               implicit_solvent=None, \n",
    "                               maxiter=200, \n",
    "                               scf_properties=[SCFProperties.Dipole, SCFProperties.Quadrupole, SCFProperties.WibergLowdinIndices, \n",
    "                                               SCFProperties.MayerIndices, SCFProperties.MBISCharges],\n",
    "                               keywords=None,\n",
    "                              ),\n",
    "                    \"gfn2xtb\": \n",
    "                        QCSpec(method=\"gfn2xtb\",\n",
    "                            basis=None,\n",
    "                            program=\"xtb\",\n",
    "                            spec_name=\"gfn2xtb\",\n",
    "                            spec_description=\"A default spec for gfn2xtb\",\n",
    "                            implicit_solvent=None,\n",
    "                            maxiter=200,\n",
    "                            scf_properties=[SCFProperties.Dipole, SCFProperties.Quadrupole, SCFProperties.WibergLowdinIndices, \n",
    "                                            SCFProperties.MayerIndices, SCFProperties.MBISCharges],\n",
    "                            keywords=None,\n",
    "                            ),\n",
    "                    }\n",
    "        \n",
    "# Torsion driven is tagged with a smarts pattern here. \n",
    "# It can also be chosen by passing the dihedral indices using `openff.qcsubmit.common_structures.TorsionIndexer()`. \n",
    "# A sample submission can be found here, https://github.com/openforcefield/qca-dataset-submission/blob/master/submissions/2021-04-09-OpenFF-Gen3-Torsion-Set-v1.0/generate-dataset.ipynb\n",
    "\n",
    "torsion_drive_factory = TorsiondriveDatasetFactory(\n",
    "                            qc_specifications=qc_specifications,\n",
    "                            workflow=[\n",
    "                                ScanEnumerator(\n",
    "                                    torsion_scans=[\n",
    "                                        Scan1D(\n",
    "                                            smarts1=\"[#6X3H1:1]~[#6X3:2](~[#6X3H1])-[#6X3:3](~[#6X3H1])~[#6X3H1:4]\",\n",
    "                                            scan_range1=(-180, 180),\n",
    "                                            scan_increment=[15]\n",
    "                                        )\n",
    "                                    ]\n",
    "                                ),\n",
    "                                StandardConformerGenerator(toolkit=\"openeye\", max_conformers=10)\n",
    "                            ],\n",
    ")\n",
    "\n",
    "\n",
    "# Biaryl molecules created from constructure package with different substituents and different sizes of rings are passed through the smi file.\n",
    "# Molecules here can be created from SDF file and other supported formats as well.\n",
    "dataset = torsion_drive_factory.create_dataset(\n",
    "    molecules='biaryl_set.smi',\n",
    "    dataset_name=\"Biaryl Torsion Drives\",\n",
    "    description=\"A dataset containing biaryls with no ortho substituents around the bridging C-C bond\",\n",
    "    tagline=\"A custom biaryl set without ortho substituents\",\n",
    ")\n",
    "\n",
    "dataset.metadata.submitter = 'pavankum'\n",
    "dataset.metadata.long_description_url = (\n",
    "    'https://custom_submission.com'\n",
    ")"
   ]
  },
  {
   "cell_type": "code",
   "execution_count": 4,
   "id": "fb2d7b5d",
   "metadata": {},
   "outputs": [],
   "source": [
    "# More compute specifications can be added post dataset creation as well.\n",
    "\n",
    "# add ANI2x (check supported elements and charged molecules on the dataset, otherwise some calculatons may fail)\n",
    "dataset.add_qc_spec(method=\"ani2x\", basis=None, program=\"torchani\", spec_name=\"ani2x\", spec_description=\"A default spec for ani2x\")\n",
    "\n",
    "# MM force fields can be added as well that are calculated with OpenMM\n",
    "dataset.add_qc_spec(method=\"openff-2.0.0\", basis=\"smirnoff\", spec_name=\"openff-2.0.0\", spec_description=\"A default spec for openff-2.0.0\", program=\"openmm\")\n",
    "dataset.add_qc_spec(method=\"gaff-2.11\", basis=\"antechamber\", spec_name=\"gaff-2.11\", spec_description=\"A default spec for gaff-2.11\", program=\"openmm\")"
   ]
  },
  {
   "cell_type": "code",
   "execution_count": 5,
   "id": "79d31f70",
   "metadata": {},
   "outputs": [],
   "source": [
    "from rdkit.Chem import Descriptors"
   ]
  },
  {
   "cell_type": "code",
   "execution_count": 6,
   "id": "168c7bd1",
   "metadata": {},
   "outputs": [
    {
     "name": "stdout",
     "output_type": "stream",
     "text": [
      "Number of unique molecules        60\n",
      "Number of filtered molecules      0\n",
      "Number of torsion drives          60\n",
      "Number of conformers min mean max   1   1.00   1\n",
      "Molecular weight min mean max     143.07 209.20 266.01\n",
      "Charges                           [-1.0, 0.0, 1.0] \n",
      "\n",
      "{'submitter': 'pavankum', 'creation_date': datetime.date(2022, 6, 8), 'collection_type': 'TorsionDriveDataset', 'dataset_name': 'Biaryl Torsion Drives', 'short_description': 'A custom biaryl set without ortho substituents', 'long_description_url': HttpUrl('https://custom_submission.com', scheme='https', host='custom_submission.com', tld='com', host_type='domain', port='443'), 'long_description': 'A dataset containing biaryls with no ortho substituents around the bridging C-C bond', 'elements': {'O', 'S', 'C', 'H', 'N'}} \n",
      "\n",
      "Spec: qm_spec\n",
      "{'method': 'b3lyp-d3bj', 'basis': 'dzvp', 'program': 'psi4', 'spec_name': 'qm_spec', 'spec_description': 'Project quantum chemistry specification', 'store_wavefunction': 'none', 'implicit_solvent': None, 'maxiter': 200, 'scf_properties': ['dipole', 'quadrupole', 'wiberg_lowdin_indices', 'mayer_indices', 'mbis_charges'], 'keywords': None} \n",
      "\n",
      "Spec: gfn2xtb\n",
      "{'method': 'gfn2xtb', 'basis': None, 'program': 'xtb', 'spec_name': 'gfn2xtb', 'spec_description': 'A default spec for gfn2xtb', 'store_wavefunction': 'none', 'implicit_solvent': None, 'maxiter': 200, 'scf_properties': ['dipole', 'quadrupole', 'wiberg_lowdin_indices', 'mayer_indices', 'mbis_charges'], 'keywords': None} \n",
      "\n",
      "Spec: ani2x\n",
      "{'method': 'ani2x', 'basis': None, 'program': 'torchani', 'spec_name': 'ani2x', 'spec_description': 'A default spec for ani2x', 'store_wavefunction': 'none', 'implicit_solvent': None, 'maxiter': 200, 'scf_properties': ['dipole', 'quadrupole', 'wiberg_lowdin_indices', 'mayer_indices'], 'keywords': None} \n",
      "\n",
      "Spec: openff-2.0.0\n",
      "{'method': 'openff-2.0.0', 'basis': 'smirnoff', 'program': 'openmm', 'spec_name': 'openff-2.0.0', 'spec_description': 'A default spec for openff-2.0.0', 'store_wavefunction': 'none', 'implicit_solvent': None, 'maxiter': 200, 'scf_properties': ['dipole', 'quadrupole', 'wiberg_lowdin_indices', 'mayer_indices'], 'keywords': None} \n",
      "\n",
      "Spec: gaff-2.11\n",
      "{'method': 'gaff-2.11', 'basis': 'antechamber', 'program': 'openmm', 'spec_name': 'gaff-2.11', 'spec_description': 'A default spec for gaff-2.11', 'store_wavefunction': 'none', 'implicit_solvent': None, 'maxiter': 200, 'scf_properties': ['dipole', 'quadrupole', 'wiberg_lowdin_indices', 'mayer_indices'], 'keywords': None} \n",
      "\n"
     ]
    }
   ],
   "source": [
    "confs = np.array([mol.n_conformers for mol in dataset.molecules])\n",
    "molecular_weights = np.array([Descriptors.ExactMolWt(mol.to_rdkit()) for mol in dataset.molecules])\n",
    "unique_formal_charges = np.unique([mol.total_charge / mol.total_charge.unit for mol in dataset.molecules])\n",
    "\n",
    "print('Number of unique molecules        {:d}'.format(dataset.n_molecules))\n",
    "print('Number of filtered molecules      {:d}'.format(dataset.n_filtered))\n",
    "print('Number of torsion drives          {:d}'.format(dataset.n_records))\n",
    "print('Number of conformers min mean max {:3d} {:6.2f} {:3d}'.format(confs.min(), confs.mean(), confs.max()))\n",
    "print('Molecular weight min mean max     {:6.2f} {:6.2f} {:6.2f}'.format(\n",
    "    molecular_weights.min(), molecular_weights.mean(), molecular_weights.max()))\n",
    "print('Charges                          ', sorted(unique_formal_charges), '\\n')\n",
    "\n",
    "print(dataset.metadata.dict(), '\\n')\n",
    "\n",
    "for spec, obj in dataset.qc_specifications.items():\n",
    "    print(\"Spec:\", spec)\n",
    "    print(obj.dict(),'\\n')"
   ]
  },
  {
   "cell_type": "code",
   "execution_count": 7,
   "id": "8441871d",
   "metadata": {},
   "outputs": [],
   "source": [
    "# export the final dataset\n",
    "\n",
    "dataset.export_dataset(\"dataset.json.bz2\")\n",
    "dataset.molecules_to_file(\"dataset.smi\", \"smi\")\n",
    "\n",
    "dataset.visualize(\"dataset.pdf\", columns=4)"
   ]
  },
  {
   "cell_type": "markdown",
   "id": "7e206572",
   "metadata": {},
   "source": [
    "# Sample dataset preparation notebooks\n",
    "\n",
    "Many more sample dataset preparation notebooks using openff-qcsubmit can be found under https://github.com/openforcefield/qca-dataset-submission/blob/master/submissions. \\\n",
    "Some of the recent submissions for other types of datasets (other than torsiondrive shown above)\n",
    "- OptimizationDataset: https://github.com/openforcefield/qca-dataset-submission/blob/master/submissions/2021-12-21-OpenFF-Gen2-Optimization-Set-Protomers/Dataset_Generation.ipynb\n",
    "- BasicDataset: https://github.com/openforcefield/qca-dataset-submission/blob/master/submissions/2021-11-15-QMDataset-DES-monomers-single-points/Dataset_Generation.ipynb"
   ]
  }
 ],
 "metadata": {
  "kernelspec": {
   "display_name": "Python 3 (ipykernel)",
   "language": "python",
   "name": "python3"
  },
  "language_info": {
   "codemirror_mode": {
    "name": "ipython",
    "version": 3
   },
   "file_extension": ".py",
   "mimetype": "text/x-python",
   "name": "python",
   "nbconvert_exporter": "python",
   "pygments_lexer": "ipython3",
   "version": "3.8.13"
  }
 },
 "nbformat": 4,
 "nbformat_minor": 5
}
